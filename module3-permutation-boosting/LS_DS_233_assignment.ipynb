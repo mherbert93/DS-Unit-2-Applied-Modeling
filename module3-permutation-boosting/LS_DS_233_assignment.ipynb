{
  "nbformat": 4,
  "nbformat_minor": 0,
  "metadata": {
    "kernelspec": {
      "display_name": "Python 3",
      "language": "python",
      "name": "python3"
    },
    "language_info": {
      "codemirror_mode": {
        "name": "ipython",
        "version": 2
      },
      "file_extension": ".py",
      "mimetype": "text/x-python",
      "name": "python",
      "nbconvert_exporter": "python",
      "pygments_lexer": "ipython2",
      "version": "2.7.6"
    },
    "colab": {
      "name": "LS_DS_233_assignment.ipynb",
      "provenance": [],
      "collapsed_sections": [],
      "include_colab_link": true
    }
  },
  "cells": [
    {
      "cell_type": "markdown",
      "metadata": {
        "id": "view-in-github",
        "colab_type": "text"
      },
      "source": [
        "<a href=\"https://colab.research.google.com/github/mherbert93/DS-Unit-2-Applied-Modeling/blob/master/module3-permutation-boosting/LS_DS_233_assignment.ipynb\" target=\"_parent\"><img src=\"https://colab.research.google.com/assets/colab-badge.svg\" alt=\"Open In Colab\"/></a>"
      ]
    },
    {
      "cell_type": "markdown",
      "metadata": {
        "id": "SxwxFfX17-f3",
        "colab_type": "text"
      },
      "source": [
        "Lambda School Data Science\n",
        "\n",
        "*Unit 2, Sprint 3, Module 3*\n",
        "\n",
        "---\n",
        "\n",
        "\n",
        "# Permutation & Boosting\n",
        "\n",
        "You will use your portfolio project dataset for all assignments this sprint.\n",
        "\n",
        "## Assignment\n",
        "\n",
        "Complete these tasks for your project, and document your work.\n",
        "\n",
        "- [x] If you haven't completed assignment #1, please do so first.\n",
        "- [x] Continue to clean and explore your data. Make exploratory visualizations.\n",
        "- [x] Fit a model. Does it beat your baseline? \n",
        "- [x] Try xgboost.\n",
        "- [x] Get your model's permutation importances.\n",
        "\n",
        "You should try to complete an initial model today, because the rest of the week, we're making model interpretation visualizations.\n",
        "\n",
        "But, if you aren't ready to try xgboost and permutation importances with your dataset today, that's okay. You can practice with another dataset instead. You may choose any dataset you've worked with previously.\n",
        "\n",
        "The data subdirectory includes the Titanic dataset for classification and the NYC apartments dataset for regression. You may want to choose one of these datasets, because example solutions will be available for each.\n",
        "\n",
        "\n",
        "## Reading\n",
        "\n",
        "Top recommendations in _**bold italic:**_\n",
        "\n",
        "#### Permutation Importances\n",
        "- _**[Kaggle / Dan Becker: Machine Learning Explainability](https://www.kaggle.com/dansbecker/permutation-importance)**_\n",
        "- [Christoph Molnar: Interpretable Machine Learning](https://christophm.github.io/interpretable-ml-book/feature-importance.html)\n",
        "\n",
        "#### (Default) Feature Importances\n",
        "  - [Ando Saabas: Selecting good features, Part 3, Random Forests](https://blog.datadive.net/selecting-good-features-part-iii-random-forests/)\n",
        "  - [Terence Parr, et al: Beware Default Random Forest Importances](https://explained.ai/rf-importance/index.html)\n",
        "\n",
        "#### Gradient Boosting\n",
        "  - [A Gentle Introduction to the Gradient Boosting Algorithm for Machine Learning](https://machinelearningmastery.com/gentle-introduction-gradient-boosting-algorithm-machine-learning/)\n",
        "  - [An Introduction to Statistical Learning](http://www-bcf.usc.edu/~gareth/ISL/ISLR%20Seventh%20Printing.pdf), Chapter 8\n",
        "  - _**[Gradient Boosting Explained](https://www.gormanalysis.com/blog/gradient-boosting-explained/)**_ — Ben Gorman\n",
        "  - [Gradient Boosting Explained](http://arogozhnikov.github.io/2016/06/24/gradient_boosting_explained.html) — Alex Rogozhnikov\n",
        "  - [How to explain gradient boosting](https://explained.ai/gradient-boosting/) — Terence Parr & Jeremy Howard"
      ]
    },
    {
      "cell_type": "code",
      "metadata": {
        "id": "_1Q9Q6Xm7RQL",
        "colab_type": "code",
        "colab": {}
      },
      "source": [
        "import pandas as pd\n",
        "\n",
        "df = pd.read_csv(\"https://archive.ics.uci.edu/ml/machine-learning-databases/00397/LasVegasTripAdvisorReviews-Dataset.csv\", sep=';')"
      ],
      "execution_count": 0,
      "outputs": []
    },
    {
      "cell_type": "code",
      "metadata": {
        "pycharm": {
          "name": "#%%\n"
        },
        "id": "aSpHb00s7RQT",
        "colab_type": "code",
        "colab": {},
        "outputId": "8d1bb21f-3f8e-4591-f701-11c3254f7aaa"
      },
      "source": [
        "df.head()"
      ],
      "execution_count": 0,
      "outputs": [
        {
          "output_type": "execute_result",
          "data": {
            "text/plain": [
              "  User country  Nr. reviews  Nr. hotel reviews  Helpful votes  Score  \\\n",
              "0          USA           11                  4             13      5   \n",
              "1          USA          119                 21             75      3   \n",
              "2          USA           36                  9             25      5   \n",
              "3           UK           14                  7             14      4   \n",
              "4       Canada            5                  5              2      4   \n",
              "\n",
              "  Period of stay Traveler type Pool  Gym Tennis court Spa Casino  \\\n",
              "0        Dec-Feb       Friends   NO  YES           NO  NO    YES   \n",
              "1        Dec-Feb      Business   NO  YES           NO  NO    YES   \n",
              "2        Mar-May      Families   NO  YES           NO  NO    YES   \n",
              "3        Mar-May       Friends   NO  YES           NO  NO    YES   \n",
              "4        Mar-May          Solo   NO  YES           NO  NO    YES   \n",
              "\n",
              "  Free internet                              Hotel name Hotel stars  \\\n",
              "0           YES  Circus Circus Hotel & Casino Las Vegas           3   \n",
              "1           YES  Circus Circus Hotel & Casino Las Vegas           3   \n",
              "2           YES  Circus Circus Hotel & Casino Las Vegas           3   \n",
              "3           YES  Circus Circus Hotel & Casino Las Vegas           3   \n",
              "4           YES  Circus Circus Hotel & Casino Las Vegas           3   \n",
              "\n",
              "   Nr. rooms User continent  Member years Review month Review weekday  \n",
              "0       3773  North America             9      January       Thursday  \n",
              "1       3773  North America             3      January         Friday  \n",
              "2       3773  North America             2     February       Saturday  \n",
              "3       3773         Europe             6     February         Friday  \n",
              "4       3773  North America             7        March        Tuesday  "
            ],
            "text/html": [
              "<div>\n",
              "<style scoped>\n",
              "    .dataframe tbody tr th:only-of-type {\n",
              "        vertical-align: middle;\n",
              "    }\n",
              "\n",
              "    .dataframe tbody tr th {\n",
              "        vertical-align: top;\n",
              "    }\n",
              "\n",
              "    .dataframe thead th {\n",
              "        text-align: right;\n",
              "    }\n",
              "</style>\n",
              "<table border=\"1\" class=\"dataframe\">\n",
              "  <thead>\n",
              "    <tr style=\"text-align: right;\">\n",
              "      <th></th>\n",
              "      <th>User country</th>\n",
              "      <th>Nr. reviews</th>\n",
              "      <th>Nr. hotel reviews</th>\n",
              "      <th>Helpful votes</th>\n",
              "      <th>Score</th>\n",
              "      <th>Period of stay</th>\n",
              "      <th>Traveler type</th>\n",
              "      <th>Pool</th>\n",
              "      <th>Gym</th>\n",
              "      <th>Tennis court</th>\n",
              "      <th>Spa</th>\n",
              "      <th>Casino</th>\n",
              "      <th>Free internet</th>\n",
              "      <th>Hotel name</th>\n",
              "      <th>Hotel stars</th>\n",
              "      <th>Nr. rooms</th>\n",
              "      <th>User continent</th>\n",
              "      <th>Member years</th>\n",
              "      <th>Review month</th>\n",
              "      <th>Review weekday</th>\n",
              "    </tr>\n",
              "  </thead>\n",
              "  <tbody>\n",
              "    <tr>\n",
              "      <th>0</th>\n",
              "      <td>USA</td>\n",
              "      <td>11</td>\n",
              "      <td>4</td>\n",
              "      <td>13</td>\n",
              "      <td>5</td>\n",
              "      <td>Dec-Feb</td>\n",
              "      <td>Friends</td>\n",
              "      <td>NO</td>\n",
              "      <td>YES</td>\n",
              "      <td>NO</td>\n",
              "      <td>NO</td>\n",
              "      <td>YES</td>\n",
              "      <td>YES</td>\n",
              "      <td>Circus Circus Hotel &amp; Casino Las Vegas</td>\n",
              "      <td>3</td>\n",
              "      <td>3773</td>\n",
              "      <td>North America</td>\n",
              "      <td>9</td>\n",
              "      <td>January</td>\n",
              "      <td>Thursday</td>\n",
              "    </tr>\n",
              "    <tr>\n",
              "      <th>1</th>\n",
              "      <td>USA</td>\n",
              "      <td>119</td>\n",
              "      <td>21</td>\n",
              "      <td>75</td>\n",
              "      <td>3</td>\n",
              "      <td>Dec-Feb</td>\n",
              "      <td>Business</td>\n",
              "      <td>NO</td>\n",
              "      <td>YES</td>\n",
              "      <td>NO</td>\n",
              "      <td>NO</td>\n",
              "      <td>YES</td>\n",
              "      <td>YES</td>\n",
              "      <td>Circus Circus Hotel &amp; Casino Las Vegas</td>\n",
              "      <td>3</td>\n",
              "      <td>3773</td>\n",
              "      <td>North America</td>\n",
              "      <td>3</td>\n",
              "      <td>January</td>\n",
              "      <td>Friday</td>\n",
              "    </tr>\n",
              "    <tr>\n",
              "      <th>2</th>\n",
              "      <td>USA</td>\n",
              "      <td>36</td>\n",
              "      <td>9</td>\n",
              "      <td>25</td>\n",
              "      <td>5</td>\n",
              "      <td>Mar-May</td>\n",
              "      <td>Families</td>\n",
              "      <td>NO</td>\n",
              "      <td>YES</td>\n",
              "      <td>NO</td>\n",
              "      <td>NO</td>\n",
              "      <td>YES</td>\n",
              "      <td>YES</td>\n",
              "      <td>Circus Circus Hotel &amp; Casino Las Vegas</td>\n",
              "      <td>3</td>\n",
              "      <td>3773</td>\n",
              "      <td>North America</td>\n",
              "      <td>2</td>\n",
              "      <td>February</td>\n",
              "      <td>Saturday</td>\n",
              "    </tr>\n",
              "    <tr>\n",
              "      <th>3</th>\n",
              "      <td>UK</td>\n",
              "      <td>14</td>\n",
              "      <td>7</td>\n",
              "      <td>14</td>\n",
              "      <td>4</td>\n",
              "      <td>Mar-May</td>\n",
              "      <td>Friends</td>\n",
              "      <td>NO</td>\n",
              "      <td>YES</td>\n",
              "      <td>NO</td>\n",
              "      <td>NO</td>\n",
              "      <td>YES</td>\n",
              "      <td>YES</td>\n",
              "      <td>Circus Circus Hotel &amp; Casino Las Vegas</td>\n",
              "      <td>3</td>\n",
              "      <td>3773</td>\n",
              "      <td>Europe</td>\n",
              "      <td>6</td>\n",
              "      <td>February</td>\n",
              "      <td>Friday</td>\n",
              "    </tr>\n",
              "    <tr>\n",
              "      <th>4</th>\n",
              "      <td>Canada</td>\n",
              "      <td>5</td>\n",
              "      <td>5</td>\n",
              "      <td>2</td>\n",
              "      <td>4</td>\n",
              "      <td>Mar-May</td>\n",
              "      <td>Solo</td>\n",
              "      <td>NO</td>\n",
              "      <td>YES</td>\n",
              "      <td>NO</td>\n",
              "      <td>NO</td>\n",
              "      <td>YES</td>\n",
              "      <td>YES</td>\n",
              "      <td>Circus Circus Hotel &amp; Casino Las Vegas</td>\n",
              "      <td>3</td>\n",
              "      <td>3773</td>\n",
              "      <td>North America</td>\n",
              "      <td>7</td>\n",
              "      <td>March</td>\n",
              "      <td>Tuesday</td>\n",
              "    </tr>\n",
              "  </tbody>\n",
              "</table>\n",
              "</div>"
            ]
          },
          "metadata": {
            "tags": []
          },
          "execution_count": 522
        }
      ]
    },
    {
      "cell_type": "code",
      "metadata": {
        "pycharm": {
          "name": "#%%\n"
        },
        "id": "fpWK0Yc17RQZ",
        "colab_type": "code",
        "colab": {},
        "outputId": "9c82ee3c-351d-4c3f-e995-4c2f0db08ae0"
      },
      "source": [
        "df['Score'].value_counts(normalize=True)"
      ],
      "execution_count": 0,
      "outputs": [
        {
          "output_type": "execute_result",
          "data": {
            "text/plain": [
              "5    0.450397\n",
              "4    0.325397\n",
              "3    0.142857\n",
              "2    0.059524\n",
              "1    0.021825\n",
              "Name: Score, dtype: float64"
            ]
          },
          "metadata": {
            "tags": []
          },
          "execution_count": 523
        }
      ]
    },
    {
      "cell_type": "code",
      "metadata": {
        "pycharm": {
          "name": "#%%\n"
        },
        "id": "L1dbZeFd7RQe",
        "colab_type": "code",
        "colab": {}
      },
      "source": [
        "from sklearn.model_selection import train_test_split\n",
        "\n",
        "train, test = train_test_split(df, train_size=0.80, test_size=0.20, stratify=df['Score'], random_state=1337)"
      ],
      "execution_count": 0,
      "outputs": []
    },
    {
      "cell_type": "code",
      "metadata": {
        "pycharm": {
          "name": "#%%\n"
        },
        "id": "onRAPLiW7RQg",
        "colab_type": "code",
        "colab": {},
        "outputId": "a5023b12-cb5b-448f-b4bb-a4e9643f87e4"
      },
      "source": [
        "train['Score'].value_counts(normalize=True)"
      ],
      "execution_count": 0,
      "outputs": [
        {
          "output_type": "execute_result",
          "data": {
            "text/plain": [
              "5    0.449132\n",
              "4    0.325062\n",
              "3    0.143921\n",
              "2    0.059553\n",
              "1    0.022333\n",
              "Name: Score, dtype: float64"
            ]
          },
          "metadata": {
            "tags": []
          },
          "execution_count": 525
        }
      ]
    },
    {
      "cell_type": "code",
      "metadata": {
        "pycharm": {
          "name": "#%%\n"
        },
        "id": "lqlN3Ku77RQl",
        "colab_type": "code",
        "colab": {}
      },
      "source": [
        "def wrangle(X):\n",
        "\n",
        "    X = X.copy()\n",
        "\n",
        "    def country_aggregation(row): #reduce number of country categories to 4. 'USA', 'Canada', 'UK', and all else 'other'.\n",
        "        if row['User country'] != \"USA\" and row['User country'] != 'Canada' and row['User country'] != 'UK':\n",
        "            return \"Other\"\n",
        "        else:\n",
        "            return row['User country']\n",
        "\n",
        "    def score_aggregation(row):\n",
        "        if row['Score'] == 5:\n",
        "            return \"Excellent\"\n",
        "        elif row['Score'] == 4 or row['Score'] == 3:\n",
        "            return \"Average\"\n",
        "        else:\n",
        "            return \"Bad\"\n",
        "\n",
        "    X['User country'] = X.apply(country_aggregation, axis=1)\n",
        "    X['Score'] = X.apply(score_aggregation, axis=1)\n",
        "\n",
        "    X = X.drop(['Member years'], axis=1)\n",
        "\n",
        "    return X"
      ],
      "execution_count": 0,
      "outputs": []
    },
    {
      "cell_type": "code",
      "metadata": {
        "pycharm": {
          "name": "#%%\n"
        },
        "id": "U1X_gvCa7RQp",
        "colab_type": "code",
        "colab": {}
      },
      "source": [
        "train = wrangle(train)\n",
        "test = wrangle(test)"
      ],
      "execution_count": 0,
      "outputs": []
    },
    {
      "cell_type": "code",
      "metadata": {
        "pycharm": {
          "name": "#%%\n"
        },
        "id": "MmzOA99g7RQs",
        "colab_type": "code",
        "colab": {},
        "outputId": "7a73201c-d1f0-466c-856d-c847e615df1e"
      },
      "source": [
        "from sklearn.metrics import accuracy_score\n",
        "\n",
        "majority_class = train['Score'].mode()[0]\n",
        "y_pred = [majority_class] * len(train['Score'])\n",
        "\n",
        "print(\"Train baseline accuracy is: \", accuracy_score(train['Score'], y_pred))"
      ],
      "execution_count": 0,
      "outputs": [
        {
          "output_type": "stream",
          "text": [
            "Train baseline accuracy is:  0.46898263027295284\n"
          ],
          "name": "stdout"
        }
      ]
    },
    {
      "cell_type": "code",
      "metadata": {
        "pycharm": {
          "name": "#%%\n"
        },
        "id": "SSUP3kx_7RQv",
        "colab_type": "code",
        "colab": {},
        "outputId": "b39d6d7e-78d1-460a-cadd-c4ebb1688eaa"
      },
      "source": [
        "majority_class = test['Score'].mode()[0]\n",
        "y_pred = [majority_class] * len(test['Score'])\n",
        "\n",
        "print(\"Test baseline accuracy is: \", accuracy_score(test['Score'], y_pred))"
      ],
      "execution_count": 0,
      "outputs": [
        {
          "output_type": "stream",
          "text": [
            "Test baseline accuracy is:  0.46534653465346537\n"
          ],
          "name": "stdout"
        }
      ]
    },
    {
      "cell_type": "code",
      "metadata": {
        "pycharm": {
          "name": "#%%\n"
        },
        "id": "0S1HZSJY7RQy",
        "colab_type": "code",
        "colab": {}
      },
      "source": [
        "target = 'Score'\n",
        "\n",
        "train_features = train.drop([target], axis=1)\n",
        "numeric_features = train_features.select_dtypes(include='number').columns.tolist()\n",
        "\n",
        "categorical_features = train_features.select_dtypes(exclude='number').nunique().index.tolist()\n",
        "\n",
        "\n",
        "features = numeric_features + categorical_features"
      ],
      "execution_count": 0,
      "outputs": []
    },
    {
      "cell_type": "code",
      "metadata": {
        "pycharm": {
          "name": "#%%\n"
        },
        "id": "ltJ7zvMl7RQ2",
        "colab_type": "code",
        "colab": {}
      },
      "source": [
        "y_train = train[target]\n",
        "X_train = train[features]\n",
        "X_test = test[features]\n",
        "y_test = test[target]"
      ],
      "execution_count": 0,
      "outputs": []
    },
    {
      "cell_type": "code",
      "metadata": {
        "pycharm": {
          "name": "#%%\n"
        },
        "id": "AvAoZuHn7RQ5",
        "colab_type": "code",
        "colab": {},
        "outputId": "6ce40a49-5502-4fe1-8eb3-37bff5abbffc"
      },
      "source": [
        "X_train.shape"
      ],
      "execution_count": 0,
      "outputs": [
        {
          "output_type": "execute_result",
          "data": {
            "text/plain": [
              "(403, 18)"
            ]
          },
          "metadata": {
            "tags": []
          },
          "execution_count": 532
        }
      ]
    },
    {
      "cell_type": "code",
      "metadata": {
        "pycharm": {
          "name": "#%%\n"
        },
        "id": "g4Fcatd_7RQ9",
        "colab_type": "code",
        "colab": {}
      },
      "source": [
        "from sklearn.model_selection import RandomizedSearchCV, GridSearchCV\n",
        "from sklearn.linear_model import LogisticRegression\n",
        "from sklearn.ensemble import RandomForestClassifier, VotingClassifier\n",
        "from sklearn.preprocessing import StandardScaler\n",
        "import category_encoders as ce\n",
        "from sklearn.pipeline import Pipeline\n",
        "from sklearn.feature_selection import SelectKBest\n",
        "from xgboost import XGBClassifier\n",
        "from imblearn.over_sampling import RandomOverSampler\n",
        "\n",
        "#When hyperparamater tuning, set tune to \"True\", and mark each model that we want to tune to \"True\".\n",
        "tune = False\n",
        "forest = True\n",
        "logistic = True\n",
        "xgboost = True\n",
        "\n",
        "forest_distributions = {\n",
        "    'model__n_estimators': range(250, 500, 50),\n",
        "    'model__max_depth': range(3, 14),\n",
        "    'model__max_features': range(2, 14),\n",
        "    'model__min_samples_leaf': range(2, 4)\n",
        "}\n",
        "logistic_distributions = {\n",
        "    'kbest__k': range(1, 20),\n",
        "    'model__C': [0.001, 0.01, 0.1, 1, 10, 100, 1000]\n",
        "}\n",
        "\n",
        "xgboost_distributions = {\n",
        "    'model__n_estimators': [75, 100, 125, 150, 175],\n",
        "    'model__max_depth': [6, 7, 8, 9, 10, 11, 12, 13],\n",
        "    'model__learning_rate': [0.01, 0.02, 0.03, 0.04, 0.05, 0.07, 0.10, 0.12, 0.14, 0.16],\n",
        "    'model__min_child_leaf':[1, 2, 3],\n",
        "    'model__min_child_weight': [1, 2, 3, 4],\n",
        "    'model__colsample_bytree':[0.2, 0.3, 0.4, 0.50, 0.60, 0.70],\n",
        "    'model__subsample':[0.3, 0.4, 0.5, 0.6, 0.7, 0.8],\n",
        "    'model__gamma':[0],\n",
        "    'model__scale_pos_weight': [1, 5, 10, 15, 20, 25, 30, 35, 40, 45, 50, 55, 60, 65, 70,\n",
        "                                75, 80, 85, 90, 95, 100]\n",
        " }\n",
        "\n",
        "if tune: #If we are hyperparamater tuning, pass no parameters into estimators and find paramaters via GridSearchCV / RandomizedSearchCV\n",
        "\n",
        "    forest_pipeline = Pipeline([('encoder', ce.OrdinalEncoder()),\n",
        "                           ('model', RandomForestClassifier(random_state=1337))])\n",
        "\n",
        "    logistic_pipeline = Pipeline([('encoder', ce.OneHotEncoder()),\n",
        "                                ('scaler', StandardScaler()),\n",
        "                                ('kbest', SelectKBest()),\n",
        "                                ('model', LogisticRegression(random_state=1337))])\n",
        "\n",
        "    xgboost_pipeline = Pipeline([('encoder', ce.OrdinalEncoder()),\n",
        "                           ('model', XGBClassifier(seed=1337))])\n",
        "\n",
        "    forest_search = GridSearchCV(\n",
        "        forest_pipeline,\n",
        "        param_grid=forest_distributions,\n",
        "        cv=3,\n",
        "        scoring='neg_log_loss',\n",
        "        verbose=10,\n",
        "        n_jobs=15\n",
        "    )\n",
        "    logistic_search = GridSearchCV(\n",
        "        logistic_pipeline,\n",
        "        param_grid=logistic_distributions,\n",
        "        cv=3,\n",
        "        scoring='neg_log_loss',\n",
        "        verbose=10,\n",
        "        n_jobs=15\n",
        "    )\n",
        "    xgboost_search = RandomizedSearchCV(\n",
        "        estimator=xgboost_pipeline,\n",
        "        param_distributions=xgboost_distributions,\n",
        "        n_iter=10000,\n",
        "        cv=3,\n",
        "        scoring='neg_log_loss',\n",
        "        verbose=10,\n",
        "        random_state=1337,\n",
        "        n_jobs=15\n",
        "    )\n",
        "\n",
        "    X_train, y_train = RandomOverSampler(sampling_strategy='not majority').fit_resample(X_train, y_train)\n",
        "\n",
        "    if forest:\n",
        "        forest_search.fit(X_train, y_train)\n",
        "        forest_train_pred = forest_search.predict(X_train)\n",
        "        forest_test_pred = forest_search.predict(X_test)\n",
        "        forest_test_pred_proba = forest_search.predict_proba(X_test)\n",
        "\n",
        "    if logistic:\n",
        "        logistic_search.fit(X_train, y_train)\n",
        "        logistic_train_pred = logistic_search.predict(X_train)\n",
        "        logistic_test_pred = logistic_search.predict(X_test)\n",
        "        logistic_pred_proba = logistic_search.predict_proba(X_test)\n",
        "\n",
        "    if xgboost:\n",
        "        xgboost_search.fit(X_train, y_train)\n",
        "        xgboost_train_pred = xgboost_search.predict(X_train)\n",
        "        xgboost_test_pred = xgboost_search.predict(X_test)\n",
        "        xgboost_test_pred_proba = xgboost_search.predict_proba(X_test)\n",
        "\n",
        "    #When hyperparameter tuning, pass our best estimators into votingclassifier. Only run when all 3 models are being tuned.\n",
        "    if forest and logistic and xgboost:\n",
        "        voting_model = VotingClassifier(estimators=[('forest', forest_search.best_estimator_), #VotingClassifier is Soft Voting/Majority Rule classifier for unfitted estimators\n",
        "                                                    ('logistic', logistic_search.best_estimator_),\n",
        "                                                    ('xgboost', xgboost_search.best_estimator_),],\n",
        "                                        voting='soft') #soft voting per recommendation from sklearn documentation, when used on tuned classifiers.\n",
        "        voting_model.fit(X_train, y_train)\n",
        "\n",
        "else: #If we are not hyperparameter tuning, pass in our best params(from previous tuning runs).\n",
        "    forest_pipeline = Pipeline([('encoder', ce.OrdinalEncoder()),\n",
        "                            ('model', RandomForestClassifier(random_state=1337,\n",
        "                                                        max_depth=13,\n",
        "                                                        max_features=11,\n",
        "                                                        min_samples_leaf=2,\n",
        "                                                        n_estimators=450))])\n",
        "    logistic_pipeline = Pipeline([('encoder', ce.OneHotEncoder()),\n",
        "                                ('scaler', StandardScaler()),\n",
        "                                ('kbest', SelectKBest(k=19)),\n",
        "                                ('model', LogisticRegression(random_state=1337, C=0.01))])\n",
        "\n",
        "    xgboost_pipeline = Pipeline([('encoder', ce.OrdinalEncoder()),\n",
        "                                ('model', XGBClassifier(random_state=1337, n_estimators=175, min_child_weight=1,\n",
        "                                                min_child_leaf=2, max_depth=11, learning_rate=0.04,\n",
        "                                                gamma=0, subsample=0.8, colsample_bytree=0.3, scale_pos_weight=100))])\n",
        "\n",
        "\n",
        "    X_train, y_train = RandomOverSampler(sampling_strategy='not majority').fit_resample(X_train, y_train) #over sample all but the majority class\n",
        "\n",
        "    forest_pipeline.fit(X_train, y_train)\n",
        "    forest_train_pred = forest_pipeline.predict(X_train)\n",
        "    forest_test_pred = forest_pipeline.predict(X_test)\n",
        "    forest_test_pred_proba = forest_pipeline.predict_proba(X_test)\n",
        "\n",
        "    logistic_pipeline.fit(X_train, y_train)\n",
        "    logistic_train_pred = logistic_pipeline.predict(X_train)\n",
        "    logistic_test_pred = logistic_pipeline.predict(X_test)\n",
        "    logistic_test_pred_proba = logistic_pipeline.predict_proba(X_test)\n",
        "\n",
        "    xgboost_pipeline.fit(X_train, y_train)\n",
        "    xgboost_train_pred = xgboost_pipeline.predict(X_train)\n",
        "    xgboost_test_pred = xgboost_pipeline.predict(X_test)\n",
        "    xgboost_test_pred_proba = xgboost_pipeline.predict_proba(X_test)\n",
        "\n",
        "    voting_model = VotingClassifier(estimators=[('forest', forest_pipeline), #VotingClassifier is Soft Voting/Majority Rule classifier for unfitted estimators\n",
        "                                                ('logistic', logistic_pipeline),\n",
        "                                                ('xgboost', xgboost_pipeline),],\n",
        "                                    voting='soft') #soft voting per recommendation from sklearn documentation, when used on tuned classifiers.\n",
        "    voting_model.fit(X_train, y_train)"
      ],
      "execution_count": 0,
      "outputs": []
    },
    {
      "cell_type": "code",
      "metadata": {
        "pycharm": {
          "name": "#%%\n"
        },
        "id": "Y9kRviyy7RRA",
        "colab_type": "code",
        "colab": {},
        "outputId": "0b501035-3a7e-4c34-ca24-7202abc6bf86"
      },
      "source": [
        "from sklearn.metrics import classification_report\n",
        "from sklearn.metrics import roc_auc_score, plot_roc_curve\n",
        "if tune:\n",
        "    target_names = ['Average', 'Bad', 'Excellent']\n",
        "\n",
        "    if forest:\n",
        "        print(forest_search.best_params_, '\\n')\n",
        "        print(\"Best Random Forest CV score: \", forest_search.best_score_, '\\n')\n",
        "        print(\"Random forest ROC-AUC: \", roc_auc_score(y_test, forest_test_pred_proba, multi_class='ovr', labels=target_names), '\\n')\n",
        "        print(classification_report(y_test, forest_test_pred, target_names=target_names), '\\n')\n",
        "\n",
        "        print('\\n')\n",
        "\n",
        "    if logistic:\n",
        "        print(logistic_search.best_params_, '\\n')\n",
        "        print(\"Best logistic regression CV score: \", logistic_search.best_score_, '\\n')\n",
        "        print(\"Logistic regression ROC-AUC: \", roc_auc_score(y_test, logistic_test_pred_proba, multi_class='ovr', labels=target_names), '\\n')\n",
        "        print(classification_report(y_test, logistic_test_pred, target_names=target_names), '\\n')\n",
        "\n",
        "        print('\\n')\n",
        "\n",
        "    if xgboost:\n",
        "        print(xgboost_search.best_params_, '\\n')\n",
        "        print(\"Best xgboost CV score: \", xgboost_search.best_score_, '\\n')\n",
        "        print(\"Xgboost ROC-AUC: \", roc_auc_score(y_test, xgboost_test_pred_proba, multi_class='ovr', labels=target_names), '\\n')\n",
        "        print(classification_report(y_test, xgboost_test_pred, target_names=target_names), '\\n')\n",
        "\n",
        "        print('\\n')\n",
        "\n",
        "    print(\"Voting classifier, final accuracy score on test set: \", voting_model.score(X_test, y_test))\n",
        "\n",
        "    combined_model = voting_model.predict_proba(X_test)\n",
        "    print(\"Voting classifier, final ROC AUC on test set: \", roc_auc_score(y_test, combined_model, multi_class='ovr', labels=target_names))\n",
        "else:\n",
        "    target_names = ['Average', 'Bad', 'Excellent']\n",
        "    print(\"Random forest ROC-AUC: \", roc_auc_score(y_test, forest_test_pred_proba, multi_class='ovr', labels=target_names), '\\n')\n",
        "    print(classification_report(y_test, forest_test_pred, target_names=target_names))\n",
        "\n",
        "    print('\\n')\n",
        "\n",
        "    print(\"Logistic regression ROC-AUC: \", roc_auc_score(y_test, logistic_test_pred_proba, multi_class='ovr', labels=target_names), '\\n')\n",
        "    print(classification_report(y_test, logistic_test_pred, target_names=target_names))\n",
        "\n",
        "    print('\\n')\n",
        "\n",
        "    print(\"Xgboost ROC-AUC: \", roc_auc_score(y_test, xgboost_test_pred_proba, multi_class='ovr', labels=target_names), '\\n')\n",
        "    print(classification_report(y_test, xgboost_test_pred, target_names=target_names))\n",
        "\n",
        "    print('\\n')\n",
        "\n",
        "    print(\"Voting classifier, final accuracy score on test set: \", voting_model.score(X_test, y_test))\n",
        "\n",
        "    combined_model = voting_model.predict_proba(X_test)\n",
        "    print(\"Voting classifier, final ROC AUC on test set: \", roc_auc_score(y_test, combined_model, multi_class='ovr', labels=target_names))"
      ],
      "execution_count": 0,
      "outputs": [
        {
          "output_type": "stream",
          "text": [
            "Random forest ROC-AUC:  0.7153965634213413 \n",
            "\n",
            "              precision    recall  f1-score   support\n",
            "\n",
            "     Average       0.60      0.57      0.59        47\n",
            "         Bad       0.27      0.38      0.32         8\n",
            "   Excellent       0.53      0.52      0.53        46\n",
            "\n",
            "    accuracy                           0.53       101\n",
            "   macro avg       0.47      0.49      0.48       101\n",
            "weighted avg       0.54      0.53      0.54       101\n",
            "\n",
            "\n",
            "\n",
            "Logistic regression ROC-AUC:  0.6404593466319466 \n",
            "\n",
            "              precision    recall  f1-score   support\n",
            "\n",
            "     Average       0.62      0.45      0.52        47\n",
            "         Bad       0.21      0.38      0.27         8\n",
            "   Excellent       0.55      0.63      0.59        46\n",
            "\n",
            "    accuracy                           0.52       101\n",
            "   macro avg       0.46      0.48      0.46       101\n",
            "weighted avg       0.55      0.52      0.53       101\n",
            "\n",
            "\n",
            "\n",
            "Xgboost ROC-AUC:  0.6878720368248682 \n",
            "\n",
            "              precision    recall  f1-score   support\n",
            "\n",
            "     Average       0.55      0.57      0.56        47\n",
            "         Bad       0.25      0.12      0.17         8\n",
            "   Excellent       0.48      0.50      0.49        46\n",
            "\n",
            "    accuracy                           0.50       101\n",
            "   macro avg       0.43      0.40      0.41       101\n",
            "weighted avg       0.49      0.50      0.50       101\n",
            "\n",
            "\n",
            "\n",
            "Voting classifier, final accuracy score on test set:  0.5643564356435643\n",
            "Voting classifier, final ROC AUC on test set:  0.7036546109907592\n"
          ],
          "name": "stdout"
        }
      ]
    },
    {
      "cell_type": "code",
      "metadata": {
        "pycharm": {
          "name": "#%%\n"
        },
        "id": "INFSpr187RRD",
        "colab_type": "code",
        "colab": {},
        "outputId": "d17701d3-3261-4c8e-fb76-581dd4cbeefd"
      },
      "source": [
        "import matplotlib.pyplot as plt\n",
        "\n",
        "if tune:\n",
        "    model = forest_search.best_estimator_.named_steps.model\n",
        "    encoder = forest_search.best_estimator_.named_steps.encoder\n",
        "else:\n",
        "    model = forest_pipeline.named_steps.model\n",
        "    encoder = forest_pipeline.named_steps.encoder\n",
        "\n",
        "\n",
        "encoded_columns = encoder.transform(X_test).columns\n",
        "importances = pd.Series(model.feature_importances_, encoded_columns)\n",
        "plt.figure(figsize=(10,30))\n",
        "importances.sort_values().plot.barh(color='grey');"
      ],
      "execution_count": 0,
      "outputs": [
        {
          "output_type": "display_data",
          "data": {
            "text/plain": [
              "<Figure size 720x2160 with 1 Axes>"
            ],
            "image/png": "[encoded data removed]"
          },
          "metadata": {
            "tags": [],
            "needs_background": "light"
          }
        }
      ]
    },
    {
      "cell_type": "code",
      "metadata": {
        "pycharm": {
          "name": "#%%\n"
        },
        "id": "nSEobzbf7RRH",
        "colab_type": "code",
        "colab": {}
      },
      "source": [
        "# import matplotlib.pyplot as plt\n",
        "#\n",
        "# import seaborn as sns\n",
        "# plt.figure(figsize=(16,9))\n",
        "# sns.barplot(\n",
        "#     x=train[train['Nr. reviews'] < 200]['Nr. reviews'],\n",
        "#     y=train['Score'],\n",
        "#     color='grey'\n",
        "# );"
      ],
      "execution_count": 0,
      "outputs": []
    },
    {
      "cell_type": "code",
      "metadata": {
        "pycharm": {
          "name": "#%%\n"
        },
        "id": "ENDw4kPZ7RRJ",
        "colab_type": "code",
        "colab": {},
        "outputId": "caa0719b-ebd0-40ba-ad96-ca18f8cb0f87"
      },
      "source": [
        "###While this is a good way to evaluate the estimator we are passing in, unless using a 3 way train/validate/test split, this should not be used for feature selection.\n",
        "###Instead, passing in an unfit estimator and specifying the amount of CV rounds will allow us to see more generalized permutation importance.\n",
        "import eli5\n",
        "from eli5.sklearn import PermutationImportance\n",
        "\n",
        "permuter = PermutationImportance(\n",
        "    forest_pipeline.named_steps.model, #pass in prefit estimator\n",
        "    scoring='neg_log_loss',\n",
        "    n_iter=100,\n",
        "    random_state=1337\n",
        ")\n",
        "\n",
        "permuter.fit(forest_pipeline.named_steps.encoder.transform(X_test), y_test) #only plotting random forest for now, though we use 3 models."
      ],
      "execution_count": 0,
      "outputs": [
        {
          "output_type": "execute_result",
          "data": {
            "text/plain": [
              "PermutationImportance(cv='prefit',\n",
              "                      estimator=RandomForestClassifier(bootstrap=True,\n",
              "                                                       ccp_alpha=0.0,\n",
              "                                                       class_weight=None,\n",
              "                                                       criterion='gini',\n",
              "                                                       max_depth=13,\n",
              "                                                       max_features=11,\n",
              "                                                       max_leaf_nodes=None,\n",
              "                                                       max_samples=None,\n",
              "                                                       min_impurity_decrease=0.0,\n",
              "                                                       min_impurity_split=None,\n",
              "                                                       min_samples_leaf=2,\n",
              "                                                       min_samples_split=2,\n",
              "                                                       min_weight_fraction_leaf=0.0,\n",
              "                                                       n_estimators=450,\n",
              "                                                       n_jobs=None,\n",
              "                                                       oob_score=False,\n",
              "                                                       random_state=1337,\n",
              "                                                       verbose=0,\n",
              "                                                       warm_start=False),\n",
              "                      n_iter=100, random_state=1337, refit=True,\n",
              "                      scoring='neg_log_loss')"
            ]
          },
          "metadata": {
            "tags": []
          },
          "execution_count": 537
        }
      ]
    },
    {
      "cell_type": "code",
      "metadata": {
        "pycharm": {
          "name": "#%%\n"
        },
        "id": "i8-wjTw_7RRM",
        "colab_type": "code",
        "colab": {}
      },
      "source": [
        "feature_names = X_test.columns.tolist()"
      ],
      "execution_count": 0,
      "outputs": []
    },
    {
      "cell_type": "code",
      "metadata": {
        "pycharm": {
          "name": "#%%\n"
        },
        "id": "xTHfIFod7RRO",
        "colab_type": "code",
        "colab": {},
        "outputId": "c2a2b9c1-6fba-4c3d-99ac-e802c6dbd376"
      },
      "source": [
        "eli5.show_weights(\n",
        "    permuter,\n",
        "    top=None,\n",
        "    feature_names=feature_names\n",
        ")"
      ],
      "execution_count": 0,
      "outputs": [
        {
          "output_type": "execute_result",
          "data": {
            "text/plain": [
              "<IPython.core.display.HTML object>"
            ],
            "text/html": [
              "\n",
              "    <style>\n",
              "    table.eli5-weights tr:hover {\n",
              "        filter: brightness(85%);\n",
              "    }\n",
              "</style>\n",
              "\n",
              "\n",
              "\n",
              "    \n",
              "\n",
              "    \n",
              "\n",
              "    \n",
              "\n",
              "    \n",
              "\n",
              "    \n",
              "\n",
              "    \n",
              "\n",
              "\n",
              "    \n",
              "\n",
              "    \n",
              "\n",
              "    \n",
              "\n",
              "    \n",
              "\n",
              "    \n",
              "\n",
              "    \n",
              "\n",
              "\n",
              "    \n",
              "\n",
              "    \n",
              "\n",
              "    \n",
              "\n",
              "    \n",
              "\n",
              "    \n",
              "        <table class=\"eli5-weights eli5-feature-importances\" style=\"border-collapse: collapse; border: none; margin-top: 0em; table-layout: auto;\">\n",
              "    <thead>\n",
              "    <tr style=\"border: none;\">\n",
              "        <th style=\"padding: 0 1em 0 0.5em; text-align: right; border: none;\">Weight</th>\n",
              "        <th style=\"padding: 0 0.5em 0 0.5em; text-align: left; border: none;\">Feature</th>\n",
              "    </tr>\n",
              "    </thead>\n",
              "    <tbody>\n",
              "    \n",
              "        <tr style=\"background-color: hsl(120, 100.00%, 80.00%); border: none;\">\n",
              "            <td style=\"padding: 0 1em 0 0.5em; text-align: right; border: none;\">\n",
              "                0.0274\n",
              "                \n",
              "                    &plusmn; 0.0440\n",
              "                \n",
              "            </td>\n",
              "            <td style=\"padding: 0 0.5em 0 0.5em; text-align: left; border: none;\">\n",
              "                Hotel stars\n",
              "            </td>\n",
              "        </tr>\n",
              "    \n",
              "        <tr style=\"background-color: hsl(120, 100.00%, 82.23%); border: none;\">\n",
              "            <td style=\"padding: 0 1em 0 0.5em; text-align: right; border: none;\">\n",
              "                0.0231\n",
              "                \n",
              "                    &plusmn; 0.0303\n",
              "                \n",
              "            </td>\n",
              "            <td style=\"padding: 0 0.5em 0 0.5em; text-align: left; border: none;\">\n",
              "                Nr. reviews\n",
              "            </td>\n",
              "        </tr>\n",
              "    \n",
              "        <tr style=\"background-color: hsl(120, 100.00%, 82.23%); border: none;\">\n",
              "            <td style=\"padding: 0 1em 0 0.5em; text-align: right; border: none;\">\n",
              "                0.0231\n",
              "                \n",
              "                    &plusmn; 0.0485\n",
              "                \n",
              "            </td>\n",
              "            <td style=\"padding: 0 0.5em 0 0.5em; text-align: left; border: none;\">\n",
              "                Hotel name\n",
              "            </td>\n",
              "        </tr>\n",
              "    \n",
              "        <tr style=\"background-color: hsl(120, 100.00%, 83.36%); border: none;\">\n",
              "            <td style=\"padding: 0 1em 0 0.5em; text-align: right; border: none;\">\n",
              "                0.0211\n",
              "                \n",
              "                    &plusmn; 0.0309\n",
              "                \n",
              "            </td>\n",
              "            <td style=\"padding: 0 0.5em 0 0.5em; text-align: left; border: none;\">\n",
              "                Nr. hotel reviews\n",
              "            </td>\n",
              "        </tr>\n",
              "    \n",
              "        <tr style=\"background-color: hsl(120, 100.00%, 87.58%); border: none;\">\n",
              "            <td style=\"padding: 0 1em 0 0.5em; text-align: right; border: none;\">\n",
              "                0.0139\n",
              "                \n",
              "                    &plusmn; 0.0106\n",
              "                \n",
              "            </td>\n",
              "            <td style=\"padding: 0 0.5em 0 0.5em; text-align: left; border: none;\">\n",
              "                User country\n",
              "            </td>\n",
              "        </tr>\n",
              "    \n",
              "        <tr style=\"background-color: hsl(120, 100.00%, 88.07%); border: none;\">\n",
              "            <td style=\"padding: 0 1em 0 0.5em; text-align: right; border: none;\">\n",
              "                0.0131\n",
              "                \n",
              "                    &plusmn; 0.0183\n",
              "                \n",
              "            </td>\n",
              "            <td style=\"padding: 0 0.5em 0 0.5em; text-align: left; border: none;\">\n",
              "                Helpful votes\n",
              "            </td>\n",
              "        </tr>\n",
              "    \n",
              "        <tr style=\"background-color: hsl(120, 100.00%, 89.38%); border: none;\">\n",
              "            <td style=\"padding: 0 1em 0 0.5em; text-align: right; border: none;\">\n",
              "                0.0111\n",
              "                \n",
              "                    &plusmn; 0.0173\n",
              "                \n",
              "            </td>\n",
              "            <td style=\"padding: 0 0.5em 0 0.5em; text-align: left; border: none;\">\n",
              "                Nr. rooms\n",
              "            </td>\n",
              "        </tr>\n",
              "    \n",
              "        <tr style=\"background-color: hsl(120, 100.00%, 89.38%); border: none;\">\n",
              "            <td style=\"padding: 0 1em 0 0.5em; text-align: right; border: none;\">\n",
              "                0.0111\n",
              "                \n",
              "                    &plusmn; 0.0181\n",
              "                \n",
              "            </td>\n",
              "            <td style=\"padding: 0 0.5em 0 0.5em; text-align: left; border: none;\">\n",
              "                Review weekday\n",
              "            </td>\n",
              "        </tr>\n",
              "    \n",
              "        <tr style=\"background-color: hsl(120, 100.00%, 92.23%); border: none;\">\n",
              "            <td style=\"padding: 0 1em 0 0.5em; text-align: right; border: none;\">\n",
              "                0.0071\n",
              "                \n",
              "                    &plusmn; 0.0137\n",
              "                \n",
              "            </td>\n",
              "            <td style=\"padding: 0 0.5em 0 0.5em; text-align: left; border: none;\">\n",
              "                Review month\n",
              "            </td>\n",
              "        </tr>\n",
              "    \n",
              "        <tr style=\"background-color: hsl(120, 100.00%, 93.88%); border: none;\">\n",
              "            <td style=\"padding: 0 1em 0 0.5em; text-align: right; border: none;\">\n",
              "                0.0051\n",
              "                \n",
              "                    &plusmn; 0.0041\n",
              "                \n",
              "            </td>\n",
              "            <td style=\"padding: 0 0.5em 0 0.5em; text-align: left; border: none;\">\n",
              "                Free internet\n",
              "            </td>\n",
              "        </tr>\n",
              "    \n",
              "        <tr style=\"background-color: hsl(120, 100.00%, 95.26%); border: none;\">\n",
              "            <td style=\"padding: 0 1em 0 0.5em; text-align: right; border: none;\">\n",
              "                0.0035\n",
              "                \n",
              "                    &plusmn; 0.0136\n",
              "                \n",
              "            </td>\n",
              "            <td style=\"padding: 0 0.5em 0 0.5em; text-align: left; border: none;\">\n",
              "                Period of stay\n",
              "            </td>\n",
              "        </tr>\n",
              "    \n",
              "        <tr style=\"background-color: hsl(120, 100.00%, 96.07%); border: none;\">\n",
              "            <td style=\"padding: 0 1em 0 0.5em; text-align: right; border: none;\">\n",
              "                0.0027\n",
              "                \n",
              "                    &plusmn; 0.0084\n",
              "                \n",
              "            </td>\n",
              "            <td style=\"padding: 0 0.5em 0 0.5em; text-align: left; border: none;\">\n",
              "                User continent\n",
              "            </td>\n",
              "        </tr>\n",
              "    \n",
              "        <tr style=\"background-color: hsl(120, 100.00%, 97.12%); border: none;\">\n",
              "            <td style=\"padding: 0 1em 0 0.5em; text-align: right; border: none;\">\n",
              "                0.0017\n",
              "                \n",
              "                    &plusmn; 0.0039\n",
              "                \n",
              "            </td>\n",
              "            <td style=\"padding: 0 0.5em 0 0.5em; text-align: left; border: none;\">\n",
              "                Tennis court\n",
              "            </td>\n",
              "        </tr>\n",
              "    \n",
              "        <tr style=\"background-color: hsl(0, 100.00%, 99.81%); border: none;\">\n",
              "            <td style=\"padding: 0 1em 0 0.5em; text-align: right; border: none;\">\n",
              "                -0.0000\n",
              "                \n",
              "                    &plusmn; 0.0030\n",
              "                \n",
              "            </td>\n",
              "            <td style=\"padding: 0 0.5em 0 0.5em; text-align: left; border: none;\">\n",
              "                Pool\n",
              "            </td>\n",
              "        </tr>\n",
              "    \n",
              "        <tr style=\"background-color: hsl(0, 100.00%, 97.93%); border: none;\">\n",
              "            <td style=\"padding: 0 1em 0 0.5em; text-align: right; border: none;\">\n",
              "                -0.0011\n",
              "                \n",
              "                    &plusmn; 0.0006\n",
              "                \n",
              "            </td>\n",
              "            <td style=\"padding: 0 0.5em 0 0.5em; text-align: left; border: none;\">\n",
              "                Gym\n",
              "            </td>\n",
              "        </tr>\n",
              "    \n",
              "        <tr style=\"background-color: hsl(0, 100.00%, 97.04%); border: none;\">\n",
              "            <td style=\"padding: 0 1em 0 0.5em; text-align: right; border: none;\">\n",
              "                -0.0018\n",
              "                \n",
              "                    &plusmn; 0.0027\n",
              "                \n",
              "            </td>\n",
              "            <td style=\"padding: 0 0.5em 0 0.5em; text-align: left; border: none;\">\n",
              "                Spa\n",
              "            </td>\n",
              "        </tr>\n",
              "    \n",
              "        <tr style=\"background-color: hsl(0, 100.00%, 95.98%); border: none;\">\n",
              "            <td style=\"padding: 0 1em 0 0.5em; text-align: right; border: none;\">\n",
              "                -0.0028\n",
              "                \n",
              "                    &plusmn; 0.0015\n",
              "                \n",
              "            </td>\n",
              "            <td style=\"padding: 0 0.5em 0 0.5em; text-align: left; border: none;\">\n",
              "                Casino\n",
              "            </td>\n",
              "        </tr>\n",
              "    \n",
              "        <tr style=\"background-color: hsl(0, 100.00%, 94.40%); border: none;\">\n",
              "            <td style=\"padding: 0 1em 0 0.5em; text-align: right; border: none;\">\n",
              "                -0.0044\n",
              "                \n",
              "                    &plusmn; 0.0215\n",
              "                \n",
              "            </td>\n",
              "            <td style=\"padding: 0 0.5em 0 0.5em; text-align: left; border: none;\">\n",
              "                Traveler type\n",
              "            </td>\n",
              "        </tr>\n",
              "    \n",
              "    \n",
              "    </tbody>\n",
              "</table>\n",
              "    \n",
              "\n",
              "    \n",
              "\n",
              "\n",
              "    \n",
              "\n",
              "    \n",
              "\n",
              "    \n",
              "\n",
              "    \n",
              "\n",
              "    \n",
              "\n",
              "    \n",
              "\n",
              "\n",
              "\n"
            ]
          },
          "metadata": {
            "tags": []
          },
          "execution_count": 539
        }
      ]
    },
    {
      "cell_type": "code",
      "metadata": {
        "pycharm": {
          "name": "#%%\n"
        },
        "id": "31YPnxdx7RRQ",
        "colab_type": "code",
        "colab": {}
      },
      "source": [
        "\n"
      ],
      "execution_count": 0,
      "outputs": []
    }
  ]
}